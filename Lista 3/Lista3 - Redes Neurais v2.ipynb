{
  "nbformat": 4,
  "nbformat_minor": 0,
  "metadata": {
    "colab": {
      "name": "Lista3.ipynb",
      "provenance": [],
      "collapsed_sections": []
    },
    "kernelspec": {
      "name": "python3",
      "display_name": "Python 3"
    },
    "language_info": {
      "name": "python"
    }
  },
  "cells": [
    {
      "cell_type": "code",
      "metadata": {
        "id": "4R5dudKPFYoR"
      },
      "source": [
        "import pandas as pd\n",
        "import numpy as np\n",
        "import matplotlib.pyplot as plt\n",
        "\n",
        "from sklearn.neural_network import MLPClassifier\n",
        "from sklearn.preprocessing import OneHotEncoder\n",
        "\n",
        "np.random.seed(13)"
      ],
      "execution_count": 1,
      "outputs": []
    },
    {
      "cell_type": "markdown",
      "metadata": {
        "id": "Alk5K-IEFtlL"
      },
      "source": [
        "# 1. Multilayer Perceptron (Regressão)"
      ]
    },
    {
      "cell_type": "markdown",
      "metadata": {
        "id": "ZTjGPZhzF0dJ"
      },
      "source": [
        "## 1.1. Classes e funções auxiliares"
      ]
    },
    {
      "cell_type": "code",
      "metadata": {
        "id": "fuyxMJkPFuuN"
      },
      "source": [
        "class Scaler():\n",
        "    \n",
        "    def __init__(self):\n",
        "        self.max = None\n",
        "        self.min = None\n",
        "        \n",
        "    def fit(self, data):\n",
        "        self.max = data.max()\n",
        "        self.min = data.min()\n",
        "        \n",
        "    def transform(self, data):\n",
        "        return (data - self.min)/ (self.max-self.min)\n",
        "    \n",
        "    def inverse(self, data):\n",
        "        return data * (self.max - self.min) + self.min"
      ],
      "execution_count": 2,
      "outputs": []
    },
    {
      "cell_type": "code",
      "metadata": {
        "id": "Lkewgjy6F3_2"
      },
      "source": [
        "def tanh(u):\n",
        "    return (np.exp(2*u) - 1)/(np.exp(2*u) + 1)\n",
        "\n",
        "def tanh_dif(u):\n",
        "    return 1 - np.tanh(u)**2  \n",
        "\n",
        "def relu(u):\n",
        "    return np.maximum(0, u)\n",
        "\n",
        "def relu_dif(u):\n",
        "    return (u >= 0) * 1.0 \n",
        "\n",
        "def afim(z):\n",
        "    return z\n",
        "\n",
        "def afim_dif(z):\n",
        "    return np.ones(shape=z.shape) \n",
        "\n",
        "def sigmoid(z):\n",
        "    return 1 / (1 + np.exp(-z))\n",
        "\n",
        "def sigmoid_dif(z):\n",
        "    return sigmoid(z) * (1 - sigmoid(z))\n",
        "\n",
        "def softmax(z):\n",
        "    return np.exp(z) / np.sum(np.exp(z), axis=0)[None,:]\n",
        "\n",
        "def softmax_dif(z):\n",
        "    return softmax_(z) * (1 - softmax_(z))\n",
        "\n",
        "def cost_mse(true, pred):\n",
        "    return np.mean((true - pred)**2)\n",
        "\n",
        "def cost_logistic(true, pred):\n",
        "    return np.mean(- true * np.log(pred) - (1 - true) * np.log(1 - pred))\n",
        "\n",
        "def cost_softmax(true, pred):\n",
        "    return - np.sum(true * np.log(pred)) / len(true)\n",
        "\n",
        "def RMSE(true, pred):\n",
        "    return np.sqrt(np.mean((true - pred)**2))"
      ],
      "execution_count": 3,
      "outputs": []
    },
    {
      "cell_type": "code",
      "metadata": {
        "id": "yZoUuwcTF5nm"
      },
      "source": [
        "class MLP_1L():\n",
        "    def __init__(self, Nh=20, momentum=0.9, t=300, rate=0.0001, \n",
        "                 size_batch= 32, phi_1 = 'tanh', phi_2 = 'afim', cost = 'mse', reg = 0.1):\n",
        "               \n",
        "        self.t = t\n",
        "        self.rate = rate\n",
        "        self.B = size_batch\n",
        "        self.lamb = reg   \n",
        "        self.W = None\n",
        "        self.M = None\n",
        "        self.D = None\n",
        "        self.Nh = Nh\n",
        "        self.momentum = momentum\n",
        "        self.K = 1\n",
        "        self.atv_1 = phi_1\n",
        "        self.atv_2 = phi_2\n",
        "        self.phi_1 = None\n",
        "        self.phi_2 = None\n",
        "        self.cost = cost\n",
        "        self.f_cost = None\n",
        "        self.costs = []\n",
        "        self.costs_val = []\n",
        "        \n",
        "        if self.atv_1 == 'tanh':\n",
        "            self.phi_1 = np.tanh                \n",
        "            self.phi_1_dif = tanh_dif\n",
        "            \n",
        "        if self.atv_1 == 'relu':\n",
        "            self.phi_1 = relu                \n",
        "            self.phi_1_dif = relu_dif                         \n",
        "                      \n",
        "        if self.atv_2 == 'afim':\n",
        "            self.phi_2 = afim          \n",
        "            self.phi_2_dif = afim_dif\n",
        "            self.f_cost = cost_mse\n",
        "            \n",
        "        if self.atv_2 == 'sigmoid':\n",
        "            self.phi_2 = sigmoid                \n",
        "            self.phi_2_dif = sigmoid_dif\n",
        "            self.f_cost = cost_logistic\n",
        "            \n",
        "        if self.atv_2 == 'softmax': \n",
        "            self.phi_2 = softmax                \n",
        "            self.phi_2_dif = softmax_dif\n",
        "            self.f_cost = cost_softmax          \n",
        "        \n",
        "    def fit(self, X, y, X_val, y_val):\n",
        "        if self.atv_2 == 'softmax':\n",
        "            self.K = len(np.unique(y))\n",
        "        n = X.shape[0]\n",
        "        X = np.c_[np.ones(X.shape[0]), X]\n",
        "        X_val = np.c_[np.ones(X_val.shape[0]), X_val]\n",
        "        y = y.reshape(-1,1) \n",
        "        y_val = y_val.reshape(-1,1)\n",
        "        self.D = X.shape[1]\n",
        "    \n",
        "        self.W = np.random.normal(loc= 0, scale=1,size=(self.Nh,self.D)) * np.sqrt(1/self.D)\n",
        "        self.W[:,0] = 0\n",
        "        self.M = np.random.normal(loc= 0, scale=1,size=(self.K, self.Nh+1)) * np.sqrt(1/self.Nh+1)\n",
        "        self.M[:, 0] = 0\n",
        "        W_past_increment = 0\n",
        "        M_past_increment = 0 \n",
        "                               \n",
        "        for epoch in range(self.t):\n",
        "            random_index = np.random.permutation(len(y))\n",
        "            X = X[random_index]\n",
        "            index = np.arange(0, n, self.B)\n",
        "            index[-1] = n\n",
        "            for i in range(len(index)-1):\n",
        "                start = index[i]\n",
        "                end = index[i+1]\n",
        "                X_batch = X[start:end, : ]\n",
        "                y_batch = y[start:end]\n",
        "                Z = np.zeros([len(X_batch), self.Nh+1])\n",
        "                \n",
        "                Z[:, 0] = 1                            \n",
        "                u = X_batch @ self.W.T\n",
        "                Z[:, 1:] = self.phi_1(u)\n",
        "                r = Z @ self.M.T\n",
        "                pred = self.phi_2(r)\n",
        "                \n",
        "                error = y_batch - pred\n",
        "                delta = error * self.phi_2_dif(r)              \n",
        "                zeta =  self.phi_1_dif(u) * (delta @ self.M[:, 1:])\n",
        "                term_M = self.lamb*self.M\n",
        "                term_M[:, 0] = 0\n",
        "                self.M = self.M + self.rate * (delta.T @ Z - term_M) +  self.momentum * M_past_increment\n",
        "                M_past_increment = self.rate * (delta.T @ Z - term_M)\n",
        "                term_W = self.lamb*self.W\n",
        "                term_W[:,0] = 0\n",
        "                self.W = self.W + self.rate * (zeta.T @ X_batch - term_W) + self.momentum * W_past_increment\n",
        "                W_past_increment = self.rate * (zeta.T @ X_batch - term_W)\n",
        "                \n",
        "                Z = np.zeros([len(X), self.Nh+1])\n",
        "                Z[:, 0] = 1                \n",
        "                u = X @ self.W.T\n",
        "                Z[:, 1:] = self.phi_1(u)\n",
        "                r = Z @ self.M.T\n",
        "                y_pred  = self.phi_2(r)                                 \n",
        "                loss = self.f_cost(y, y_pred)/2\n",
        "                self.costs.append(loss)\n",
        "                \n",
        "                Z = np.zeros([len(X_val), self.Nh+1])\n",
        "                Z[:, 0] = 1                \n",
        "                u = X_val @ self.W.T\n",
        "                Z[:, 1:] = self.phi_1(u)\n",
        "                r = Z @ self.M.T\n",
        "                y_pred_val  = self.phi_2(r)        \n",
        "                loss_val = self.f_cost(y_val, y_pred_val)/2\n",
        "                self.costs_val.append(loss_val)\n",
        "                \n",
        "    def predict(self, X):\n",
        "        X = np.c_[np.ones(X.shape[0]), X]        \n",
        "        Z = np.zeros([len(X), self.Nh+1])\n",
        "        Z[:, 0] = 1                \n",
        "        u = X @ self.W.T\n",
        "        Z[:, 1:] = self.phi_1(u)\n",
        "        r = Z @ self.M.T\n",
        "        y_pred  = self.phi_2(r)\n",
        "        return y_pred"
      ],
      "execution_count": 4,
      "outputs": []
    },
    {
      "cell_type": "code",
      "metadata": {
        "id": "jMovrp_kF8AE"
      },
      "source": [
        "def MSE(true, pred):\n",
        "    return np.mean((true - pred)**2)\n",
        "\n",
        "def MRE(y_true ,y_pred):\n",
        "    return np.mean(np.abs((y_true - y_pred)/y_true))"
      ],
      "execution_count": 5,
      "outputs": []
    },
    {
      "cell_type": "code",
      "metadata": {
        "id": "kEe7MW-UF_KH"
      },
      "source": [
        "from sklearn.datasets import fetch_openml\n",
        "concrete = fetch_openml(data_id='4353',as_frame=True)\n",
        "X = concrete.data.iloc[:,0:8]\n",
        "y = concrete.data.iloc[:,8]"
      ],
      "execution_count": 6,
      "outputs": []
    },
    {
      "cell_type": "code",
      "metadata": {
        "colab": {
          "base_uri": "https://localhost:8080/",
          "height": 255
        },
        "id": "2gSvhibwGBdG",
        "outputId": "7d90592c-970f-457e-cafb-29553fd0120a"
      },
      "source": [
        "X.head()"
      ],
      "execution_count": 7,
      "outputs": [
        {
          "output_type": "execute_result",
          "data": {
            "text/html": [
              "<div>\n",
              "<style scoped>\n",
              "    .dataframe tbody tr th:only-of-type {\n",
              "        vertical-align: middle;\n",
              "    }\n",
              "\n",
              "    .dataframe tbody tr th {\n",
              "        vertical-align: top;\n",
              "    }\n",
              "\n",
              "    .dataframe thead th {\n",
              "        text-align: right;\n",
              "    }\n",
              "</style>\n",
              "<table border=\"1\" class=\"dataframe\">\n",
              "  <thead>\n",
              "    <tr style=\"text-align: right;\">\n",
              "      <th></th>\n",
              "      <th>Cement (component 1)(kg in a m^3 mixture)</th>\n",
              "      <th>Blast Furnace Slag (component 2)(kg in a m^3 mixture)</th>\n",
              "      <th>Fly Ash (component 3)(kg in a m^3 mixture)</th>\n",
              "      <th>Water  (component 4)(kg in a m^3 mixture)</th>\n",
              "      <th>Superplasticizer (component 5)(kg in a m^3 mixture)</th>\n",
              "      <th>Coarse Aggregate  (component 6)(kg in a m^3 mixture)</th>\n",
              "      <th>Fine Aggregate (component 7)(kg in a m^3 mixture)</th>\n",
              "      <th>Age (day)</th>\n",
              "    </tr>\n",
              "  </thead>\n",
              "  <tbody>\n",
              "    <tr>\n",
              "      <th>0</th>\n",
              "      <td>540.0</td>\n",
              "      <td>0.0</td>\n",
              "      <td>0.0</td>\n",
              "      <td>162.0</td>\n",
              "      <td>2.5</td>\n",
              "      <td>1040.0</td>\n",
              "      <td>676.0</td>\n",
              "      <td>28.0</td>\n",
              "    </tr>\n",
              "    <tr>\n",
              "      <th>1</th>\n",
              "      <td>540.0</td>\n",
              "      <td>0.0</td>\n",
              "      <td>0.0</td>\n",
              "      <td>162.0</td>\n",
              "      <td>2.5</td>\n",
              "      <td>1055.0</td>\n",
              "      <td>676.0</td>\n",
              "      <td>28.0</td>\n",
              "    </tr>\n",
              "    <tr>\n",
              "      <th>2</th>\n",
              "      <td>332.5</td>\n",
              "      <td>142.5</td>\n",
              "      <td>0.0</td>\n",
              "      <td>228.0</td>\n",
              "      <td>0.0</td>\n",
              "      <td>932.0</td>\n",
              "      <td>594.0</td>\n",
              "      <td>270.0</td>\n",
              "    </tr>\n",
              "    <tr>\n",
              "      <th>3</th>\n",
              "      <td>332.5</td>\n",
              "      <td>142.5</td>\n",
              "      <td>0.0</td>\n",
              "      <td>228.0</td>\n",
              "      <td>0.0</td>\n",
              "      <td>932.0</td>\n",
              "      <td>594.0</td>\n",
              "      <td>365.0</td>\n",
              "    </tr>\n",
              "    <tr>\n",
              "      <th>4</th>\n",
              "      <td>198.6</td>\n",
              "      <td>132.4</td>\n",
              "      <td>0.0</td>\n",
              "      <td>192.0</td>\n",
              "      <td>0.0</td>\n",
              "      <td>978.4</td>\n",
              "      <td>825.5</td>\n",
              "      <td>360.0</td>\n",
              "    </tr>\n",
              "  </tbody>\n",
              "</table>\n",
              "</div>"
            ],
            "text/plain": [
              "   Cement (component 1)(kg in a m^3 mixture)  ...  Age (day)\n",
              "0                                      540.0  ...       28.0\n",
              "1                                      540.0  ...       28.0\n",
              "2                                      332.5  ...      270.0\n",
              "3                                      332.5  ...      365.0\n",
              "4                                      198.6  ...      360.0\n",
              "\n",
              "[5 rows x 8 columns]"
            ]
          },
          "metadata": {
            "tags": []
          },
          "execution_count": 7
        }
      ]
    },
    {
      "cell_type": "code",
      "metadata": {
        "colab": {
          "base_uri": "https://localhost:8080/"
        },
        "id": "CCgXfEZAGD2L",
        "outputId": "6d74829e-2018-4950-b18a-83626d773206"
      },
      "source": [
        "y.head()"
      ],
      "execution_count": 8,
      "outputs": [
        {
          "output_type": "execute_result",
          "data": {
            "text/plain": [
              "0    79.99\n",
              "1    61.89\n",
              "2    40.27\n",
              "3    41.05\n",
              "4    44.30\n",
              "Name: Concrete compressive strength(MPa. megapascals), dtype: float64"
            ]
          },
          "metadata": {
            "tags": []
          },
          "execution_count": 8
        }
      ]
    },
    {
      "cell_type": "code",
      "metadata": {
        "id": "LYIzX8n3GFsM"
      },
      "source": [
        "X = X.to_numpy()\n",
        "y = y.to_numpy()"
      ],
      "execution_count": 9,
      "outputs": []
    },
    {
      "cell_type": "code",
      "metadata": {
        "id": "J1WF2DmDGHjB"
      },
      "source": [
        "from sklearn.model_selection import train_test_split"
      ],
      "execution_count": 10,
      "outputs": []
    },
    {
      "cell_type": "code",
      "metadata": {
        "id": "9aanaTybGJmw"
      },
      "source": [
        "x_train, x_test, y_train, y_test = train_test_split(X, y, test_size=0.2, random_state=1)\n",
        "\n",
        "x_train, x_val, y_train, y_val = train_test_split(x_train, y_train, test_size=0.25, random_state=1)"
      ],
      "execution_count": 11,
      "outputs": []
    },
    {
      "cell_type": "code",
      "metadata": {
        "id": "SzH7k8aeGLCZ"
      },
      "source": [
        "scaler_x = Scaler()\n",
        "scaler_y = Scaler()\n",
        "\n",
        "scaler_x.fit(x_train)\n",
        "scaler_y.fit(y_train)\n",
        "\n",
        "x_train_scaled = scaler_x.transform(x_train)\n",
        "x_val_scaled = scaler_x.transform(x_val)\n",
        "\n",
        "y_train_scaled = scaler_y.transform(y_train)\n",
        "y_val_scaled = scaler_y.transform(y_val)"
      ],
      "execution_count": 12,
      "outputs": []
    },
    {
      "cell_type": "markdown",
      "metadata": {
        "id": "2Ho0JxOOGO7b"
      },
      "source": [
        "## 1.2 Ajuste de hiperparâmetros"
      ]
    },
    {
      "cell_type": "code",
      "metadata": {
        "id": "yWMLQyoHGMv4"
      },
      "source": [
        "grid = {\n",
        "    'Nh':[15 , 35 ,50,100],\n",
        "    'rate':[0.0001 ,0.00001],\n",
        "    'reg' : [0 ,0.01, 0.1, 0.25, 0.4]\n",
        "    }\n",
        "\n",
        "def RandomSearch(modelo, grid, qtd, cost):\n",
        "    combinations = []\n",
        "    while len(combinations) < qtd:\n",
        "        a = {}\n",
        "        for yi in grid.keys():\n",
        "            a[yi] = np.random.choice(grid[yi])\n",
        "            if a not in combinations:\n",
        "                combinations.append(a)\n",
        "                \n",
        "    scores = []      \n",
        "    for comb in combinations:\n",
        "        model = modelo(**comb)\n",
        "        model.fit(x_train_scaled, y_train_scaled, x_val_scaled, y_val_scaled)\n",
        "        y_pred = model.predict(x_val_scaled)\n",
        "        y_pred = scaler_y.inverse(y_pred)\n",
        "        scores.append(cost(y_val, y_pred))\n",
        "        print(comb)\n",
        "        print(cost(y_val, y_pred))\n",
        "        print(\"----\")\n",
        "        \n",
        "    scores = np.array(scores)\n",
        "    best_index = np.argmin(scores)\n",
        "    best = combinations[best_index]\n",
        "        \n",
        "    return best, combinations, scores\n",
        "        "
      ],
      "execution_count": 13,
      "outputs": []
    },
    {
      "cell_type": "code",
      "metadata": {
        "colab": {
          "base_uri": "https://localhost:8080/"
        },
        "id": "Ro1rUSYAGShY",
        "outputId": "09f74055-da9d-4fc8-854c-076cd5991c9e"
      },
      "source": [
        "best, combinations, scores = RandomSearch(MLP_1L, grid, 30, RMSE)"
      ],
      "execution_count": 14,
      "outputs": [
        {
          "output_type": "stream",
          "text": [
            "{'Nh': 50, 'rate': 0.0001, 'reg': 0.1}\n",
            "16.87620390692315\n",
            "----\n",
            "{'Nh': 15, 'rate': 0.0001, 'reg': 0.1}\n",
            "16.883259987299883\n",
            "----\n",
            "{'Nh': 15, 'rate': 1e-05, 'reg': 0.4}\n",
            "19.176285535746445\n",
            "----\n",
            "{'Nh': 50, 'rate': 1e-05, 'reg': 0.1}\n",
            "19.753723121178634\n",
            "----\n",
            "{'Nh': 15, 'rate': 0.0001, 'reg': 0.1}\n",
            "16.92707012427224\n",
            "----\n",
            "{'Nh': 50, 'rate': 0.0001, 'reg': 0.1}\n",
            "16.902458820833036\n",
            "----\n",
            "{'Nh': 35, 'rate': 1e-05, 'reg': 0.4}\n",
            "18.484955315228166\n",
            "----\n",
            "{'Nh': 50, 'rate': 0.0001, 'reg': 0.25}\n",
            "16.936022192953985\n",
            "----\n",
            "{'Nh': 35, 'rate': 1e-05, 'reg': 0.25}\n",
            "18.090705678373986\n",
            "----\n",
            "{'Nh': 50, 'rate': 1e-05, 'reg': 0.25}\n",
            "21.440945125885456\n",
            "----\n",
            "{'Nh': 35, 'rate': 0.0001, 'reg': 0.0}\n",
            "17.22919477081492\n",
            "----\n",
            "{'Nh': 15, 'rate': 1e-05, 'reg': 0.0}\n",
            "17.61643008108432\n",
            "----\n",
            "{'Nh': 15, 'rate': 0.0001, 'reg': 0.1}\n",
            "16.85514801857894\n",
            "----\n",
            "{'Nh': 15, 'rate': 1e-05, 'reg': 0.25}\n",
            "18.69259836393806\n",
            "----\n",
            "{'Nh': 35, 'rate': 0.0001, 'reg': 0.25}\n",
            "16.909072685160556\n",
            "----\n",
            "{'Nh': 50, 'rate': 0.0001, 'reg': 0.01}\n",
            "16.907556284935588\n",
            "----\n",
            "{'Nh': 15, 'rate': 1e-05, 'reg': 0.01}\n",
            "18.98701030864376\n",
            "----\n",
            "{'Nh': 35, 'rate': 1e-05, 'reg': 0.1}\n",
            "18.435500404069625\n",
            "----\n",
            "{'Nh': 100, 'rate': 0.0001, 'reg': 0.25}\n",
            "16.905462378706797\n",
            "----\n",
            "{'Nh': 100, 'rate': 1e-05, 'reg': 0.25}\n",
            "18.418280394544432\n",
            "----\n",
            "{'Nh': 15, 'rate': 1e-05, 'reg': 0.1}\n",
            "19.62586089628784\n",
            "----\n",
            "{'Nh': 15, 'rate': 0.0001, 'reg': 0.4}\n",
            "16.878326655531062\n",
            "----\n",
            "{'Nh': 50, 'rate': 1e-05, 'reg': 0.0}\n",
            "18.897960532242383\n",
            "----\n",
            "{'Nh': 35, 'rate': 1e-05, 'reg': 0.01}\n",
            "20.661235334342972\n",
            "----\n",
            "{'Nh': 35, 'rate': 1e-05, 'reg': 0.4}\n",
            "20.73254236932408\n",
            "----\n",
            "{'Nh': 100, 'rate': 0.0001, 'reg': 0.01}\n",
            "17.022081193351177\n",
            "----\n",
            "{'Nh': 15, 'rate': 1e-05, 'reg': 0.0}\n",
            "18.85271506867657\n",
            "----\n",
            "{'Nh': 35, 'rate': 1e-05, 'reg': 0.25}\n",
            "19.67603328057726\n",
            "----\n",
            "{'Nh': 35, 'rate': 1e-05, 'reg': 0.01}\n",
            "17.63103239407298\n",
            "----\n",
            "{'Nh': 15, 'rate': 0.0001, 'reg': 0.25}\n",
            "16.85622304352164\n",
            "----\n"
          ],
          "name": "stdout"
        }
      ]
    },
    {
      "cell_type": "code",
      "metadata": {
        "colab": {
          "base_uri": "https://localhost:8080/"
        },
        "id": "hlD-qqfYGUao",
        "outputId": "fb13a935-8e25-4650-f725-3c647f33570f"
      },
      "source": [
        "best"
      ],
      "execution_count": 15,
      "outputs": [
        {
          "output_type": "execute_result",
          "data": {
            "text/plain": [
              "{'Nh': 15, 'rate': 0.0001, 'reg': 0.1}"
            ]
          },
          "metadata": {
            "tags": []
          },
          "execution_count": 15
        }
      ]
    },
    {
      "cell_type": "code",
      "metadata": {
        "colab": {
          "base_uri": "https://localhost:8080/"
        },
        "id": "gaG-QagDHhG_",
        "outputId": "7c60e95d-eb1f-4478-c5cb-de5cc7e472cb"
      },
      "source": [
        "np.argmin(scores)"
      ],
      "execution_count": 16,
      "outputs": [
        {
          "output_type": "execute_result",
          "data": {
            "text/plain": [
              "12"
            ]
          },
          "metadata": {
            "tags": []
          },
          "execution_count": 16
        }
      ]
    },
    {
      "cell_type": "markdown",
      "metadata": {
        "id": "AQeUEhLpHlkK"
      },
      "source": [
        "## 1.3. Desempenho validation set"
      ]
    },
    {
      "cell_type": "code",
      "metadata": {
        "colab": {
          "base_uri": "https://localhost:8080/"
        },
        "id": "zrYE-SHrHmpX",
        "outputId": "c999f20f-d143-4b9d-dbd3-977604a7422c"
      },
      "source": [
        "model = MLP_1L(**best)\n",
        "\n",
        "model.fit(x_train_scaled, y_train_scaled, x_val_scaled, y_val_scaled)\n",
        "y_pred = model.predict(x_val_scaled)\n",
        "y_pred = scaler_y.inverse(y_pred)\n",
        "\n",
        "\n",
        "mre = MRE(y_val, y_pred)\n",
        "RMSE = np.sqrt(MSE(y_val, y_pred))\n",
        "\n",
        "print(\"MRE: {}\".format(mre))\n",
        "print(\"RMSE: {}\".format(RMSE))"
      ],
      "execution_count": 17,
      "outputs": [
        {
          "output_type": "stream",
          "text": [
            "MRE: 0.599415239019777\n",
            "RMSE: 17.058379804646563\n"
          ],
          "name": "stdout"
        }
      ]
    },
    {
      "cell_type": "code",
      "metadata": {
        "colab": {
          "base_uri": "https://localhost:8080/",
          "height": 298
        },
        "id": "rpbDRgSDHv7c",
        "outputId": "08b1b1e1-0bef-4a8c-8949-b149b22c532f"
      },
      "source": [
        "plt.plot(model.costs, label='train')\n",
        "plt.plot(model.costs_val, label='validation')\n",
        "plt.title(\"Curva de aprendizagem: Train x Validation\")\n",
        "plt.legend()"
      ],
      "execution_count": 19,
      "outputs": [
        {
          "output_type": "execute_result",
          "data": {
            "text/plain": [
              "<matplotlib.legend.Legend at 0x7fafdbd499d0>"
            ]
          },
          "metadata": {
            "tags": []
          },
          "execution_count": 19
        },
        {
          "output_type": "display_data",
          "data": {
            "image/png": "[encoded data removed]",
            "text/plain": [
              "<Figure size 432x288 with 1 Axes>"
            ]
          },
          "metadata": {
            "tags": [],
            "needs_background": "light"
          }
        }
      ]
    },
    {
      "cell_type": "markdown",
      "metadata": {
        "id": "-AggKukxINaY"
      },
      "source": [
        "## 1.3. Desempenho training set"
      ]
    },
    {
      "cell_type": "code",
      "metadata": {
        "colab": {
          "base_uri": "https://localhost:8080/"
        },
        "id": "MBA-iaSvIN-J",
        "outputId": "7c92424c-75c6-49e1-ade9-3b5b6b1c905e"
      },
      "source": [
        "y_pred = model.predict(x_train_scaled)\n",
        "y_pred = scaler_y.inverse(y_pred)\n",
        "\n",
        "\n",
        "mre = MRE(y_train, y_pred)\n",
        "RMSE = np.sqrt(MSE(y_train, y_pred))\n",
        "\n",
        "print(\"MRE: {}\".format(mre))\n",
        "print(\"RMSE: {}\".format(RMSE))\n"
      ],
      "execution_count": 20,
      "outputs": [
        {
          "output_type": "stream",
          "text": [
            "MRE: 0.6035854829370318\n",
            "RMSE: 17.024373169986166\n"
          ],
          "name": "stdout"
        }
      ]
    },
    {
      "cell_type": "code",
      "metadata": {
        "id": "lwqdCMGbIbXo"
      },
      "source": [
        "scaler_x.fit(x_train)\n",
        "scaler_y.fit(y_train)\n",
        "\n",
        "x_train_scaled  = scaler_x.transform(x_train)\n",
        "x_val_scaled = scaler_x.transform(x_test)\n",
        "\n",
        "y_train_scaled = scaler_y.transform(y_train)\n",
        "y_val_scaled = scaler_y.transform(y_train)"
      ],
      "execution_count": 21,
      "outputs": []
    },
    {
      "cell_type": "code",
      "metadata": {
        "colab": {
          "base_uri": "https://localhost:8080/"
        },
        "id": "bzcEpTqiIfBV",
        "outputId": "6726b224-c341-47fa-e6e9-255e127ea9be"
      },
      "source": [
        "model = MLP_1L(**best)\n",
        "\n",
        "model.fit(x_train, y_train, x_val, y_val)\n",
        "y_pred = model.predict(x_val)\n",
        "y_pred = scaler_y.inverse(y_pred)\n",
        "\n",
        "\n",
        "mre = MRE(y_test, y_pred)\n",
        "RMSE = np.sqrt(MSE(y_test, y_pred))\n",
        "\n",
        "print(\"MRE: {}\".format(mre))\n",
        "print(\"RMSE: {}\".format(RMSE))"
      ],
      "execution_count": 22,
      "outputs": [
        {
          "output_type": "stream",
          "text": [
            "MRE: 90.28022559153679\n",
            "RMSE: 2585.6030987887552\n"
          ],
          "name": "stdout"
        }
      ]
    },
    {
      "cell_type": "markdown",
      "metadata": {
        "id": "Cmng1TyOIzFg"
      },
      "source": [
        "# 2. MLP para classificação "
      ]
    },
    {
      "cell_type": "markdown",
      "metadata": {
        "id": "gxDGKkThI3HL"
      },
      "source": [
        "## 2.1. Funções e Classes Auxiliares"
      ]
    },
    {
      "cell_type": "code",
      "metadata": {
        "id": "b_q5up3BI48e"
      },
      "source": [
        "def addOneColunm(x):\n",
        "    return np.c_[np.ones(x.shape[0]), x[:, :]]\n",
        "\n",
        "def accuracy(y, y_pred):\n",
        "    a = np.count_nonzero((y == y_pred) == True)\n",
        "    return a/len(y) * 100\n",
        "\n",
        "def crossEntropy(y, pred_val):\n",
        "    return  -np.mean(np.sum(y * np.log(pred_val), axis=1))\n",
        "\n",
        "def linear(x):\n",
        "    return x\n",
        "\n",
        "def reLU(x):\n",
        "    out = []\n",
        "    out.append(np.array([max(0, u) for u in x[0]]))\n",
        "    for i in range(1,x.shape[0]):\n",
        "        out.append(np.array([max(0, u) for u in x[i]]))\n",
        "    return np.array(out)\n",
        "\n",
        "def deri_reLU(x):\n",
        "    out = []\n",
        "    out.append([1 if u>=0 else 0 for u in x[0]])\n",
        "    for i in range(1,x.shape[0]):\n",
        "        out.append([1 if u>=0 else 0 for u in x[i]])\n",
        "    return np.array(out)\n",
        "\n",
        "def fsigmoide(x):\n",
        "    return 1/(1+np.exp(-x))\n",
        "\n",
        "def ftangh(x):\n",
        "    return (np.exp(2*x)-1)/(np.exp(2*x)+1)\n",
        "\n",
        "def sigmoide(x):\n",
        "    out = []\n",
        "    out.append(np.array([fsigmoide(u) for u in x[0]]))\n",
        "    for i in range(1,x.shape[0]):\n",
        "        out.append(np.array([fsigmoide(u) for u in x[i]]))\n",
        "    return np.array(out)\n",
        "\n",
        "def deri_sigmoide(x):\n",
        "    out = []\n",
        "    out.append([fsigmoide(u) - fsigmoide(u)**2 for u in x[0]])\n",
        "    for i in range(1,x.shape[0]):\n",
        "        out.append([fsigmoide(u) - fsigmoide(u)**2 for u in x[i]])\n",
        "    return np.array(out)\n",
        "\n",
        "def tangh(x):\n",
        "    out = []\n",
        "    out.append(np.array([ftangh(u) for u in x[0]]))\n",
        "    for i in range(1,x.shape[0]):\n",
        "        out.append(np.array([ftangh(u) for u in x[i]]))\n",
        "    return np.array(out)\n",
        "\n",
        "def deri_tangh(x):\n",
        "    out = []\n",
        "    out.append([1 - ftangh(u)**2 for u in x[0]])\n",
        "    for i in range(1,x.shape[0]):\n",
        "        out.append([1 - ftangh(u)**2 for u in x[i]])\n",
        "    return np.array(out)\n",
        "\n",
        "def fsoftmax(x):\n",
        "    num = np.exp(x)\n",
        "    return num/np.sum(num)\n",
        "\n",
        "def softmax(x, N):\n",
        "    o1 = []\n",
        "    for j in range(N):\n",
        "        out = []\n",
        "        for outNeur in x:\n",
        "            out.append(outNeur[j])\n",
        "\n",
        "        o1.append(fsoftmax(out))\n",
        "    return np.array(o1)\n",
        "\n",
        "def initBXavier(size):\n",
        "    w = np.array([np.random.normal(0, np.sqrt(1/size)) for x in range(size)])\n",
        "    w[0] = 0.01 \n",
        "    return w"
      ],
      "execution_count": 23,
      "outputs": []
    },
    {
      "cell_type": "code",
      "metadata": {
        "id": "eAj3gXytI7W1"
      },
      "source": [
        "class Neural_Network:\n",
        "    \n",
        "    def __init__(self, Nh, dims, alpha, momentum, hiddenFunc, outFunc):\n",
        "        self.Nh = Nh\n",
        "        self.alpha = alpha\n",
        "        self.M_delta = 0\n",
        "        self.W_delta = 0\n",
        "        self.momentum = momentum\n",
        "        self.hiddenFunc = hiddenFunc\n",
        "        self.outFunc = outFunc\n",
        "        \n",
        "        self.W = np.zeros([Nh, dims])\n",
        "        for j in range(Nh):\n",
        "            self.W[j,:] = initBXavier(dims)\n",
        "\n",
        "        self.M = np.zeros([K, Nh+1])\n",
        "        for j in range(K):\n",
        "            self.M[j,:] = initBXavier(Nh+1)\n",
        "    \n",
        "    def forward(self, batch_x):\n",
        "        u = self.W@batch_x.T\n",
        "        if self.hiddenFunc == 'tangh':\n",
        "            z = tangh(u)\n",
        "        elif self.hiddenFunc == 'sigmoide':\n",
        "            z = sigmoide(u)\n",
        "        elif self.hiddenFunc == 'relu':\n",
        "            z = reLU(u)\n",
        "\n",
        "        z = np.r_[np.ones([1, batch_x.shape[0]]), z]\n",
        "\n",
        "        r = self.M@z\n",
        "        \n",
        "        if self.outFunc == 'identidade':\n",
        "            o1 = linear(r)\n",
        "        elif self.outFunc == 'softmax':\n",
        "            o1 = softmax(r, r.shape[1])\n",
        "        \n",
        "        self.u = u\n",
        "        self.z = z\n",
        "        return o1\n",
        "\n",
        "    def backward(self, e, batch_x, mode):\n",
        "        delta = -e\n",
        "        if self.hiddenFunc == 'tangh':\n",
        "            deri_u = deri_tangh(self.u)\n",
        "        elif self.hiddenFunc == 'sigmoide':\n",
        "            deri_u = deri_sigmoide(self.u)\n",
        "        elif self.hiddenFunc == 'relu':\n",
        "            deri_u = deri_reLU(self.u)\n",
        "        \n",
        "        if mode == \"classification\":\n",
        "            delta = delta.T\n",
        "            C = deri_u * (self.M[:, 1:self.Nh+1].T @ delta)\n",
        "        else:\n",
        "            delta = delta.reshape(1,-1)\n",
        "            C = deri_u*(np.expand_dims(self.M[0][1:self.Nh+1], axis=0).T @ delta)\n",
        "\n",
        "        self.M_delta = self.momentum*self.M_delta - self.alpha * delta @ self.z.T\n",
        "        self.M = self.M + self.M_delta\n",
        "                \n",
        "        self.W_delta = self.momentum*self.W_delta - self.alpha * C @ batch_x\n",
        "        self.W = self.W + self.W_delta"
      ],
      "execution_count": 24,
      "outputs": []
    },
    {
      "cell_type": "code",
      "metadata": {
        "id": "bQ7Ku4jcJCja"
      },
      "source": [
        "dataset = np.genfromtxt('./vowel.csv', delimiter=',')\n",
        "\n",
        "X = dataset[:, 0:9]\n",
        "y = dataset[:, dataset.shape[1]-1]\n",
        "\n",
        "X_train, X_test, y_train, y_test = train_test_split(X, y, test_size=0.2, random_state=12345)\n",
        "\n",
        "X_train, X_val, y_train, y_val = train_test_split(X_train, y_train, test_size=0.25, random_state=12345)"
      ],
      "execution_count": 35,
      "outputs": []
    },
    {
      "cell_type": "code",
      "metadata": {
        "id": "G5-7MpO7JFE9"
      },
      "source": [
        "from sklearn.preprocessing import StandardScaler\n",
        "from sklearn.preprocessing import OneHotEncoder"
      ],
      "execution_count": 27,
      "outputs": []
    },
    {
      "cell_type": "code",
      "metadata": {
        "id": "4LOpAIVIJSrt"
      },
      "source": [
        "X_scale = StandardScaler().fit(X_train)\n",
        "encoder = OneHotEncoder(sparse=False)\n",
        "\n",
        "X_train_norm = X_scale.transform(X_train)\n",
        "y_train_encod = encoder.fit_transform(y_train.reshape(len(y_train), 1))\n",
        "\n",
        "X_val_norm = X_scale.transform(X_val)\n",
        "y_val_encod = encoder.fit_transform(y_val.reshape(len(y_val), 1))\n",
        "\n",
        "X_train_norm = addOneColunm(X_train_norm)\n",
        "X_val_norm = addOneColunm(X_val_norm)"
      ],
      "execution_count": 36,
      "outputs": []
    },
    {
      "cell_type": "code",
      "metadata": {
        "colab": {
          "base_uri": "https://localhost:8080/",
          "height": 845
        },
        "id": "iOR8EOiCJX-b",
        "outputId": "be3d7d24-22a1-4815-e1be-2704baf863e2"
      },
      "source": [
        "batch_size = 32\n",
        "epochs = 200\n",
        "K = 11 \n",
        "mi = 0.9\n",
        "\n",
        "loss_validations = []\n",
        "\n",
        "history_loss_val = []\n",
        "history_loss_train = []\n",
        "acc_val = []\n",
        "\n",
        "random_neurons = random.sample(range(50,150), 3)\n",
        "random_leaning = random.sample(list(np.linspace(0.00001, 0.001, 100)), 3)\n",
        "\n",
        "step=0\n",
        "\n",
        "start = time.time()\n",
        "\n",
        "for Nh in random_neurons:\n",
        "    \n",
        "    \n",
        "    \n",
        "    \n",
        "    for alpha in random_leaning:\n",
        "        \n",
        "        loss_train = []\n",
        "        loss_val = []\n",
        "\n",
        "        \n",
        "        net = Neural_Network(Nh, X_train_norm.shape[1], alpha, mi, hiddenFunc='tangh', outFunc='softmax')\n",
        "        \n",
        "        print(f'Step: {step}')\n",
        "\n",
        "        for i in range(0, epochs):\n",
        "\n",
        "        \n",
        "            indices = np.random.permutation(X_train_norm.shape[0])\n",
        "\n",
        "            \n",
        "            for j in range(0,len(indices),batch_size):\n",
        "\n",
        "                if j+batch_size <= len(X_train_norm):\n",
        "                    batch_X = X_train_norm[indices[j:j+batch_size],:]\n",
        "                    batch_y = y_train_encod[indices[j:j+batch_size]]\n",
        "                else:\n",
        "                    batch_X = X_train_norm[indices[j:],:]\n",
        "                    batch_y = y_train_encod[indices[j:]] \n",
        "\n",
        "                \n",
        "                o1 = net.forward(batch_X)\n",
        "\n",
        "                e = (batch_y - o1)\n",
        "\n",
        "                \n",
        "                net.backward(e, batch_X, 'classification')\n",
        "\n",
        "            \n",
        "            pred_val = net.forward(X_val_norm)\n",
        "\n",
        "            cross_entropy_val = crossEntropy(y_val_encod, pred_val)\n",
        "            loss_val.append(cross_entropy_val)\n",
        "            \n",
        "            \n",
        "            y_pred_val_class = np.argmax(pred_val, axis=1)\n",
        "            acc = accuracy(y_val, y_pred_val_class)\n",
        "\n",
        "            \n",
        "            pred_train = net.forward(X_train_norm)\n",
        "\n",
        "            cross_entropy_train = crossEntropy(y_train_encod, pred_train)\n",
        "            loss_train.append(cross_entropy_train)\n",
        "            \n",
        "        \n",
        "        loss_validations.append(cross_entropy_val) \n",
        "        history_loss_train.append(loss_train)\n",
        "        history_loss_val.append(loss_val)\n",
        "        acc_val.append(acc)\n",
        "        step+=1\n",
        "\n",
        "end = time.time()\n",
        "print(f'Time: {end - start}')\n",
        "\n",
        "\n",
        "mini = np.min(loss_validations)\n",
        "\n",
        "index = loss_validations.index(mini)\n",
        "p_neur = int(index/len(random_neurons))\n",
        "p_lr = index - int(index/len(random_leaning)) * len(random_leaning)\n",
        "\n",
        "print(f'\\n hyperparameters of lower validation by random-search:\\n N: {random_neurons[p_neur]} lr: {random_leaning[p_lr]}\\n')\n",
        "\n",
        "print(f'Accuracy of lower validation set: {acc_val[index]}% \\n')\n",
        "\n",
        "\n",
        "plt.plot(range(len(history_loss_train[index])), history_loss_train[index], label='Train')\n",
        "plt.plot(range(len(history_loss_val[index])), history_loss_val[index], label='Val')\n",
        "plt.title('Learning of lower validation Loss')\n",
        "plt.xlabel(\"Epochs\")\n",
        "plt.ylabel(\"Loss\")   \n",
        "plt.grid(True)\n",
        "plt.legend()\n",
        "plt.show()\n",
        "\n",
        "\n",
        "plt.plot(range(len(loss_validations)), loss_validations, label='Validations')\n",
        "plt.scatter(index, loss_validations[index], s=50, c='red') # marca menor valor\n",
        "plt.title('Loss by iteration of random-search')\n",
        "plt.xlabel(\"Iterations\")\n",
        "plt.ylabel(\"Loss\")   \n",
        "plt.grid(True)\n",
        "plt.legend()\n",
        "plt.show()   "
      ],
      "execution_count": 37,
      "outputs": [
        {
          "output_type": "stream",
          "text": [
            "Step: 0\n",
            "Step: 1\n",
            "Step: 2\n",
            "Step: 3\n",
            "Step: 4\n",
            "Step: 5\n",
            "Step: 6\n",
            "Step: 7\n",
            "Step: 8\n",
            "Time: 1665.9897859096527\n",
            "\n",
            " hyperparameters of lower validation by random-search:\n",
            " N: 57 lr: 0.00035999999999999997\n",
            "\n",
            "Accuracy of lower validation set: 90.40404040404042% \n",
            "\n"
          ],
          "name": "stdout"
        },
        {
          "output_type": "display_data",
          "data": {
            "image/png": "[encoded data removed]",
            "text/plain": [
              "<Figure size 432x288 with 1 Axes>"
            ]
          },
          "metadata": {
            "tags": [],
            "needs_background": "light"
          }
        },
        {
          "output_type": "display_data",
          "data": {
            "image/png": "[encoded data removed]",
            "text/plain": [
              "<Figure size 432x288 with 1 Axes>"
            ]
          },
          "metadata": {
            "tags": [],
            "needs_background": "light"
          }
        }
      ]
    },
    {
      "cell_type": "code",
      "metadata": {
        "colab": {
          "base_uri": "https://localhost:8080/"
        },
        "id": "9h9z0dr4RZzK",
        "outputId": "e35f6e71-81ca-45ea-be94-e0868e6e989e"
      },
      "source": [
        "X_train = np.r_[X_train, X_val]\n",
        "y_train = np.r_[y_train, y_val]\n",
        "\n",
        "print(f'Sizes: \\nX_train: {len(X_train)} X_test: {len(X_test)} total: {len(X)}')\n",
        "\n",
        "X_scale = StandardScaler().fit(X_train)\n",
        "encoder = OneHotEncoder(sparse=False)\n",
        "\n",
        "X_train_norm = X_scale.transform(X_train)\n",
        "y_train_encod = encoder.fit_transform(y_train.reshape(len(y_train), 1))\n",
        "\n",
        "X_test_norm = X_scale.transform(X_test)\n",
        "y_test_encod = encoder.fit_transform(y_test.reshape(len(y_test), 1))\n",
        "\n",
        "X_train_norm = addOneColunm(X_train_norm)\n",
        "X_test_norm = addOneColunm(X_test_norm)"
      ],
      "execution_count": 38,
      "outputs": [
        {
          "output_type": "stream",
          "text": [
            "Sizes: \n",
            "X_train: 792 X_test: 198 total: 990\n"
          ],
          "name": "stdout"
        }
      ]
    },
    {
      "cell_type": "code",
      "metadata": {
        "colab": {
          "base_uri": "https://localhost:8080/"
        },
        "id": "1XyYDHwjjffB",
        "outputId": "a61a4db3-f0e4-464b-af6c-c7429e493885"
      },
      "source": [
        "W_delta = 0\n",
        "M_delta = 0\n",
        "\n",
        "Nh = random_neurons[p_neur]\n",
        "alpha = random_leaning[p_lr]\n",
        "    \n",
        "net = Neural_Network(Nh, X_train_norm.shape[1], alpha, mi, hiddenFunc='tangh', outFunc='softmax')\n",
        "\n",
        "for i in range(0, 500):\n",
        "\n",
        "    \n",
        "    indices = np.random.permutation(X_train_norm.shape[0])\n",
        "\n",
        "    \n",
        "    for j in range(0,len(indices),batch_size):\n",
        "\n",
        "        if j+batch_size <= len(X_train_norm):\n",
        "            batch_X = X_train_norm[indices[j:j+batch_size],:]\n",
        "            batch_y = y_train_encod[indices[j:j+batch_size]]\n",
        "        else:\n",
        "            batch_X = X_train_norm[indices[j:],:]\n",
        "            batch_y = y_train_encod[indices[j:]] \n",
        "\n",
        "         \n",
        "        o1 = net.forward(batch_X)\n",
        "\n",
        "        e = (batch_y - o1)\n",
        "\n",
        "        \n",
        "        net.backward(e, batch_X, 'classification')\n",
        "                            \n",
        "\n",
        "pred_train = net.forward(X_train_norm)\n",
        "cross_entropy_train = crossEntropy(y_train_encod, pred_train)\n",
        "\n",
        "y_pred_train_class = np.argmax(pred_train, axis=1)\n",
        "acc_train = accuracy(y_train, y_pred_train_class)\n",
        "            \n",
        "\n",
        "pred_test = net.forward(X_test_norm)\n",
        "cross_entropy_test = crossEntropy(y_test_encod, pred_test)\n",
        "\n",
        "y_pred_test_class = np.argmax(pred_test, axis=1)\n",
        "acc_test = accuracy(y_test, y_pred_test_class)\n",
        "\n",
        "print(f'Accuracy of lower validation set from random-search:\\nAccuracy: {acc_val[index]}% \\n')\n",
        "print('\\n=======================================\\n')\n",
        "print(f'Metrics Train (Val + Train) set:\\nAccuracy: {acc_train}%\\n')\n",
        "print('\\n=======================================\\n')\n",
        "print(f'Metrics Test set:\\nAccuracy: {acc_test}%\\n')"
      ],
      "execution_count": 40,
      "outputs": [
        {
          "output_type": "stream",
          "text": [
            "Accuracy of lower validation set from random-search:\n",
            "Accuracy: 90.40404040404042% \n",
            "\n",
            "\n",
            "=======================================\n",
            "\n",
            "Metrics Train (Val + Train) set:\n",
            "Accuracy: 100.0%\n",
            "\n",
            "\n",
            "=======================================\n",
            "\n",
            "Metrics Test set:\n",
            "Accuracy: 94.94949494949495%\n",
            "\n"
          ],
          "name": "stdout"
        }
      ]
    }
  ]
}