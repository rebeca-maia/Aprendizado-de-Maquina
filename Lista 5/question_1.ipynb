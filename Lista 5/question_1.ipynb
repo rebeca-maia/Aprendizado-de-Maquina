{
 "cells": [
  {
   "cell_type": "code",
   "execution_count": 1,
   "id": "1281f678-f46d-4df9-b5bd-54328d0008ef",
   "metadata": {},
   "outputs": [],
   "source": [
    "from sklearn.cluster import KMeans\n",
    "import pandas as pd\n",
    "import numpy as np\n",
    "import matplotlib.pyplot as plt\n",
    "from statistics import mean, stdev\n",
    "\n",
    "def normalization_z_score(dataset, mean_values, std_values):\n",
    "    dataset_copy = dataset.copy()\n",
    "    dataset_copy = (dataset_copy-mean_values) / std_values\n",
    "    return dataset_copy, mean_values, std_values\n",
    "\n",
    "def normalization_min_max(dataset, min_values, max_values):\n",
    "    dataset_copy = dataset.copy()\n",
    "    dataset_copy = (dataset_copy-min_values) / (max_values-min_values)\n",
    "    return dataset_copy, min_values, max_values\n",
    "\n",
    "def apply_normalization_min_max(dataset, min_values, max_values):\n",
    "    dataset_copy = dataset.copy()\n",
    "    dataset_copy = (dataset_copy-min_values) / (max_values-min_values)\n",
    "    return dataset_copy\n",
    "\n",
    "def denormalization_z_score(dataset, mean_values, std_values):\n",
    "    dataset_copy = dataset.copy()\n",
    "    return (dataset_copy*std_values) + mean_values\n",
    "\n",
    "def denormalization_min_max(dataset, min_values, max_values):\n",
    "    dataset_copy = dataset.copy()\n",
    "    return (dataset_copy*(max_values - min_values)) + min_values"
   ]
  },
  {
   "cell_type": "code",
   "execution_count": 2,
   "id": "51a5ea75-29c7-4ab6-abb2-9e732563bc3d",
   "metadata": {},
   "outputs": [],
   "source": [
    "quake_dataset = np.genfromtxt('quake.csv', delimiter=',', skip_header=0)\n",
    "min_values = np.min(quake_dataset, axis=0)\n",
    "max_values = np.max(quake_dataset, axis=0)\n",
    "quake_dataset, min_values, max_values = normalization_min_max(quake_dataset, min_values, max_values)\n"
   ]
  },
  {
   "cell_type": "code",
   "execution_count": 3,
   "id": "2abcceff-1c72-4bf2-bb0c-00e35f7e25a5",
   "metadata": {},
   "outputs": [],
   "source": [
    "df_quake = pd.DataFrame(quake_dataset, columns=[\"latitude\",\"longitude\"])"
   ]
  },
  {
   "cell_type": "markdown",
   "id": "f6857e8f-9aef-41a1-917d-e9dab58cedce",
   "metadata": {},
   "source": [
    "# Calculando matriz de distância Mahalanobis"
   ]
  },
  {
   "cell_type": "code",
   "execution_count": 4,
   "id": "41502ad4-e2ab-4837-9b3b-de9632863ec8",
   "metadata": {},
   "outputs": [],
   "source": [
    "def covariance_matrix_mahalanobis(data=None, cov=None):\n",
    "    \n",
    "    if not cov:\n",
    "        cov = np.cov(data.values.T)\n",
    "    inv_cov_mat = np.linalg.inv(cov)\n",
    "    \n",
    "    return inv_cov_mat\n",
    "\n",
    "def distance_matrix_mahalanobis(numpy_dataset, covariance_matrix):\n",
    "    \n",
    "    distance_matrix = np.zeros((quake_dataset.shape[0],quake_dataset.shape[0]))\n",
    "    for i in range(numpy_dataset.shape[0]):\n",
    "        for j in range(numpy_dataset.shape[0]):\n",
    "            distance_matrix[i][j] = np.sqrt((numpy_dataset[i]-numpy_dataset[j]).T@covariance_matrix@(numpy_dataset[i]-numpy_dataset[j]))\n",
    "            \n",
    "    return distance_matrix"
   ]
  },
  {
   "cell_type": "code",
   "execution_count": 5,
   "id": "248bfdf7-f94b-4c49-93c7-ec88402b8af5",
   "metadata": {},
   "outputs": [
    {
     "data": {
      "text/plain": [
       "array([[ 1.09175101e-03, -3.79475791e-05],\n",
       "       [-3.79475791e-05,  7.20833777e-05]])"
      ]
     },
     "execution_count": 5,
     "metadata": {},
     "output_type": "execute_result"
    }
   ],
   "source": [
    "covariance_matrix = covariance_matrix_mahalanobis(data=df_quake[['latitude', 'longitude']])\n",
    "covariance_matrix\n",
    "#distance_matrix = distance_matrix_mahalanobis(quake_dataset, covariance_matrix)\n"
   ]
  },
  {
   "cell_type": "code",
   "execution_count": 6,
   "id": "105d7fac-0167-428e-89af-0d77d4cb7cf0",
   "metadata": {},
   "outputs": [],
   "source": [
    "class KMeans:\n",
    "    def __init__(self, cov_matrix, reconstruction_error, db_score, labels):\n",
    "        self.cov_matrix = cov_matrix\n",
    "        self.reconstruction_error = reconstruction_error\n",
    "        self.db_score = db_score\n",
    "        self.labels = labels\n",
    "    \n",
    "    def db_score_calculate(self, distances_json, centroids, distance_function):\n",
    "        \n",
    "        db_score = 0\n",
    "        means = {}\n",
    "        for each_cluster in distances_json:\n",
    "            means[each_cluster] = mean(distances_json[each_cluster])\n",
    "        \n",
    "        db_score = 0\n",
    "        \n",
    "        count = 0\n",
    "        for each_cluster in means:\n",
    "            \n",
    "            max_distance = None\n",
    "            index_max_cluster = None\n",
    "            for another_cluster in means:\n",
    "                if(another_cluster != each_cluster):\n",
    "                    if(max_distance == None):\n",
    "                        max_distance = means[another_cluster]\n",
    "                        index_max_cluster = another_cluster\n",
    "                    else:\n",
    "                        if(means[another_cluster] > max_distance):\n",
    "                            max_distance = means[another_cluster]\n",
    "                            index_max_cluster = another_cluster\n",
    "            \n",
    "            try:\n",
    "                distance_between_cluster, index = distance_function(centroids[each_cluster,:].reshape(1,2),centroids[index_max_cluster,:].reshape(1,2))\n",
    "                db_score += (means[each_cluster]+means[index_max_cluster])/distance_between_cluster\n",
    "                count += 1\n",
    "            except Exception:\n",
    "                pass\n",
    "        \n",
    "        return db_score/count\n",
    "        \n",
    "    \n",
    "    def euclidian_distance(self, x,y):\n",
    "        distances = np.sqrt(np.sum(np.power(x-y,2),axis=1, keepdims=True))\n",
    "        \n",
    "        return float(np.min(distances)), int(np.argmin(distances))\n",
    "    \n",
    "    def mahalanobis_distance(self, x,y):\n",
    "        min_value = None\n",
    "        min_index_cluster = None\n",
    "        x = x.reshape(1,2).T\n",
    "        \n",
    "        for each_cluster in range(y.shape[0]):\n",
    "            this_rows = np.c_[y[each_cluster]]\n",
    "            if(min_index_cluster == None):\n",
    "                min_index_cluster = each_cluster\n",
    "                min_value = np.sqrt((x-this_rows).T@(self.cov_matrix)@(x-this_rows))\n",
    "            else:\n",
    "                distance = np.sqrt((x-this_rows).T@(self.cov_matrix)@(x-this_rows))\n",
    "                if(distance < min_value): \n",
    "                    min_value = distance\n",
    "                    min_index_cluster = each_cluster\n",
    "        \n",
    "        return float(min_value), int(min_index_cluster)\n",
    "        \n",
    "    def init_centroids_linear(self, X, k_clusters):\n",
    "        centroids = []\n",
    "        \n",
    "        minimuns = np.min(X,axis=0)\n",
    "        maximuns = np.max(X,axis=0)\n",
    "        diffs = (maximuns-minimuns)/k_clusters\n",
    "        \n",
    "        for each_cluster in range(k_clusters):\n",
    "            centroids.append(minimuns + diffs*each_cluster)\n",
    "                \n",
    "        return np.array(centroids)\n",
    "    \n",
    "    def init_centroids_random(self, X, k_clusters):\n",
    "        \n",
    "        random_indices = np.random.randint(X.shape[0], size=k_clusters)\n",
    "\n",
    "        return X[random_indices, :]\n",
    "    \n",
    "    \n",
    "    def update_centroids(self, x, y):\n",
    "        \n",
    "        y = np.array(y)\n",
    "        clusters = np.unique(y)\n",
    "        new_clusters = np.empty((0,2))\n",
    "        \n",
    "        for each_cluster in clusters:\n",
    "            try:\n",
    "                new_clusters = np.r_[new_clusters, np.mean(x[y==clusters[each_cluster]], axis=0, keepdims=True)]\n",
    "            except Exception:\n",
    "                pass\n",
    "        \n",
    "        return new_clusters\n",
    "        \n",
    "    def train(self, X, k_clusters = 4, distance=\"euclidian\", centroids_strategy=\"random\", **kwargs):\n",
    "        \n",
    "        epochs = 50\n",
    "        last_distance = 0\n",
    "        count = 0\n",
    "        metric_values = []\n",
    "        \n",
    "        cov_matrix = None\n",
    "        \n",
    "        if(distance == \"euclidian\"):\n",
    "            distance_function = self.euclidian_distance\n",
    "        elif(distance == \"mahalanobis\"):\n",
    "            self.cov_matrix = covariance_matrix_mahalanobis(data=df_quake[['latitude', 'longitude']])\n",
    "            distance_function = self.mahalanobis_distance\n",
    "        \n",
    "        if(centroids_strategy == \"random\"):\n",
    "            centroids = self.init_centroids_random(quake_dataset, k_clusters)\n",
    "        elif(centroids_strategy == \"linear\"):\n",
    "            centroids = self.init_centroids_linear(quake_dataset, k_clusters)\n",
    "        \n",
    "        for each_epoch in range(epochs):\n",
    "            y_result = []\n",
    "            distance_sum = 0\n",
    "            distances_json = {}\n",
    "            for each_pattern in X:\n",
    "                distance, cluster = distance_function(each_pattern,centroids)\n",
    "                if(cluster in distances_json):\n",
    "                    distances_json[cluster].append(distance)\n",
    "                else:\n",
    "                    distances_json[cluster] = [distance]\n",
    "                y_result.append(cluster)\n",
    "                distance_sum += distance\n",
    "            \n",
    "            centroids = self.update_centroids(X, y_result)\n",
    "            if(last_distance == 0 or distance_sum < last_distance):\n",
    "                count = 0\n",
    "                last_distance = distance_sum\n",
    "            else:\n",
    "                if(count > 2):\n",
    "                    break\n",
    "                else:\n",
    "                    count += 1\n",
    "                    \n",
    "        self.reconstruction_error = last_distance\n",
    "        self.labels = np.array(y_result)\n",
    "        self.db_score = self.db_score_calculate(distances_json, centroids, distance_function)\n",
    "        \n",
    "        return None\n",
    "    "
   ]
  },
  {
   "cell_type": "code",
   "execution_count": 7,
   "id": "d941f8f2-c8b2-4159-8f55-1bec31954cf7",
   "metadata": {},
   "outputs": [
    {
     "name": "stdout",
     "output_type": "stream",
     "text": [
      "Quantidade de grupos: 4 Índice DB: 0.46 +/- 0.1531 e Inércia: 69742.01\n",
      "Quantidade de grupos: 5 Índice DB: 0.40 +/- 0.0270 e Inércia: 61514.99\n",
      "Quantidade de grupos: 6 Índice DB: 0.37 +/- 0.0216 e Inércia: 50374.56\n",
      "Quantidade de grupos: 7 Índice DB: 0.34 +/- 0.0133 e Inércia: 48512.68\n",
      "Quantidade de grupos: 8 Índice DB: 0.34 +/- 0.0544 e Inércia: 43474.07\n",
      "Quantidade de grupos: 9 Índice DB: 0.35 +/- 0.0612 e Inércia: 38170.46\n",
      "Quantidade de grupos: 10 Índice DB: 0.31 +/- 0.0472 e Inércia: 37899.30\n",
      "Quantidade de grupos: 11 Índice DB: 0.33 +/- 0.0680 e Inércia: 35316.89\n",
      "Quantidade de grupos: 12 Índice DB: 0.33 +/- 0.0701 e Inércia: 33496.75\n",
      "Quantidade de grupos: 13 Índice DB: 0.34 +/- 0.0748 e Inércia: 31520.92\n",
      "Quantidade de grupos: 14 Índice DB: 0.28 +/- 0.0626 e Inércia: 33602.26\n",
      "Quantidade de grupos: 15 Índice DB: 0.33 +/- 0.0707 e Inércia: 28068.01\n",
      "Quantidade de grupos: 16 Índice DB: 0.35 +/- 0.0695 e Inércia: 26176.84\n",
      "Quantidade de grupos: 17 Índice DB: 0.34 +/- 0.0729 e Inércia: 25954.63\n",
      "Quantidade de grupos: 18 Índice DB: 0.35 +/- 0.0557 e Inércia: 23693.96\n",
      "Quantidade de grupos: 19 Índice DB: 0.34 +/- 0.0598 e Inércia: 23099.15\n",
      "Quantidade de grupos: 20 Índice DB: 0.33 +/- 0.0758 e Inércia: 24238.91\n"
     ]
    }
   ],
   "source": [
    "best_division = None\n",
    "best_score = None\n",
    "best_labels = None\n",
    "\n",
    "for group_number in range(4,21):\n",
    "    results_db = []\n",
    "    results_inertia = []\n",
    "    score_best_inertia = None\n",
    "    labels_best_inertia = None\n",
    "    inertia_min = None\n",
    "    \n",
    "    for i in range(20):\n",
    "        kmeans = KMeans(None, None, None, None)\n",
    "        centroids = kmeans.train(quake_dataset, k_clusters=group_number, centroids_strategy=\"random\")\n",
    "        db_score = kmeans.db_score\n",
    "        results_db.append(db_score)\n",
    "        results_inertia.append(kmeans.reconstruction_error)\n",
    "        # Usar soma das distâncias para escolher melhor modelo\n",
    "        if(inertia_min == None):\n",
    "            score_best_inertia = db_score\n",
    "            inertia_min = kmeans.reconstruction_error\n",
    "            labels_best_inertia = kmeans.labels\n",
    "        elif(kmeans.reconstruction_error < inertia_min):\n",
    "            score_best_inertia = db_score if db_score < score_best_inertia else score_best_inertia\n",
    "            inertia_min = kmeans.reconstruction_error\n",
    "            labels_best_inertia = kmeans.labels\n",
    "      \n",
    "    # Usar índice DB para identificar melhor agrupamento\n",
    "    if(best_division == None):\n",
    "        best_division = group_number\n",
    "        best_score = score_best_inertia\n",
    "        best_labels = labels_best_inertia\n",
    "    elif(score_best_inertia < best_score):\n",
    "        best_division = group_number\n",
    "        best_score = score_best_inertia\n",
    "        best_labels = labels_best_inertia\n",
    "        \n",
    "    print(\"Quantidade de grupos: {} Índice DB: {:.2f} +/- {:.4f} e Inércia: {:.2f}\".format(str(group_number),mean(results_db),stdev(results_db),mean(results_inertia)))\n"
   ]
  },
  {
   "cell_type": "markdown",
   "id": "e2806c51-2193-4af0-b5e0-cc6d3c391e7f",
   "metadata": {},
   "source": [
    "# Para distância Euclidiana\n",
    "## Melhor agrupamento de tamanho 13 com índice Davies Boldin 0.257\n"
   ]
  },
  {
   "cell_type": "code",
   "execution_count": 8,
   "id": "cb29374e-aa8f-4959-9fc7-d94257e90724",
   "metadata": {},
   "outputs": [
    {
     "name": "stdout",
     "output_type": "stream",
     "text": [
      "20 0.2228042325270873\n"
     ]
    },
    {
     "data": {
      "text/plain": [
       "<matplotlib.collections.PathCollection at 0x18fcc610408>"
      ]
     },
     "execution_count": 8,
     "metadata": {},
     "output_type": "execute_result"
    },
    {
     "data": {
      "image/png": "[encoded data removed]",
      "text/plain": [
       "<Figure size 432x288 with 1 Axes>"
      ]
     },
     "metadata": {
      "needs_background": "light"
     },
     "output_type": "display_data"
    }
   ],
   "source": [
    "print(best_division, best_score)\n",
    "plt.scatter(df_quake[\"latitude\"],df_quake[\"longitude\"], c=best_labels, cmap='rainbow')"
   ]
  },
  {
   "cell_type": "code",
   "execution_count": 19,
   "id": "3d10ba68-e7f9-44a1-8c6b-74cbda67f663",
   "metadata": {},
   "outputs": [
    {
     "name": "stdout",
     "output_type": "stream",
     "text": [
      "Quantidade de grupos: 4 Índice DB: 0.59 +/- 0.0544 e Inércia: 1195.39\n",
      "Quantidade de grupos: 5 Índice DB: 0.52 +/- 0.0116 e Inércia: 1009.09\n",
      "Quantidade de grupos: 6 Índice DB: 0.47 +/- 0.0227 e Inércia: 931.38\n",
      "Quantidade de grupos: 7 Índice DB: 0.49 +/- 0.0504 e Inércia: 846.97\n",
      "Quantidade de grupos: 8 Índice DB: 0.44 +/- 0.0261 e Inércia: 762.54\n",
      "Quantidade de grupos: 9 Índice DB: 0.41 +/- 0.0308 e Inércia: 677.57\n",
      "Quantidade de grupos: 10 Índice DB: 0.41 +/- 0.0290 e Inércia: 643.67\n",
      "Quantidade de grupos: 11 Índice DB: 0.41 +/- 0.0506 e Inércia: 607.17\n",
      "Quantidade de grupos: 12 Índice DB: 0.38 +/- 0.0643 e Inércia: 543.93\n",
      "Quantidade de grupos: 13 Índice DB: 0.36 +/- 0.0483 e Inércia: 545.12\n",
      "Quantidade de grupos: 14 Índice DB: 0.35 +/- 0.0476 e Inércia: 492.47\n",
      "Quantidade de grupos: 15 Índice DB: 0.36 +/- 0.0750 e Inércia: 453.86\n",
      "Quantidade de grupos: 16 Índice DB: 0.36 +/- 0.0633 e Inércia: 440.31\n",
      "Quantidade de grupos: 17 Índice DB: 0.35 +/- 0.0961 e Inércia: 422.23\n",
      "Quantidade de grupos: 18 Índice DB: 0.33 +/- 0.0631 e Inércia: 401.87\n",
      "Quantidade de grupos: 19 Índice DB: 0.35 +/- 0.0713 e Inércia: 384.85\n",
      "Quantidade de grupos: 20 Índice DB: 0.33 +/- 0.0534 e Inércia: 368.22\n"
     ]
    }
   ],
   "source": [
    "best_division = None\n",
    "best_score = None\n",
    "best_labels = None\n",
    "\n",
    "for group_number in range(4,21):\n",
    "    results_db = []\n",
    "    results_inertia = []\n",
    "    score_best_inertia = None\n",
    "    labels_best_inertia = None\n",
    "    inertia_min = None\n",
    "    \n",
    "    for i in range(20):\n",
    "        kmeans = KMeans(None, None, None, None)\n",
    "        centroids = kmeans.train(quake_dataset, distance=\"mahalanobis\", k_clusters=group_number)\n",
    "        db_score = kmeans.db_score\n",
    "        results_db.append(db_score)\n",
    "        results_inertia.append(kmeans.reconstruction_error)\n",
    "        # Usar soma das distâncias para escolher melhor modelo\n",
    "        if(inertia_min == None):\n",
    "            score_best_inertia = db_score\n",
    "            inertia_min = kmeans.reconstruction_error\n",
    "            labels_best_inertia = kmeans.labels\n",
    "        elif(kmeans.reconstruction_error < inertia_min):\n",
    "            score_best_inertia = db_score if db_score < score_best_inertia else score_best_inertia\n",
    "            inertia_min = kmeans.reconstruction_error\n",
    "            labels_best_inertia = kmeans.labels\n",
    "      \n",
    "    # Usar índice DB para identificar melhor agrupamento\n",
    "    if(best_division == None):\n",
    "        best_division = group_number\n",
    "        best_score = score_best_inertia\n",
    "        best_labels = labels_best_inertia\n",
    "    elif(score_best_inertia < best_score):\n",
    "        best_division = group_number\n",
    "        best_score = score_best_inertia\n",
    "        best_labels = labels_best_inertia\n",
    "        \n",
    "    print(\"Quantidade de grupos: {} Índice DB: {:.2f} +/- {:.4f} e Inércia: {:.2f}\".format(str(group_number),mean(results_db),stdev(results_db),mean(results_inertia)))\n"
   ]
  },
  {
   "cell_type": "markdown",
   "id": "1e60b5b9-ef89-4537-8816-0339dfa8d902",
   "metadata": {},
   "source": [
    "# Para distância Mahalanobis\n",
    "## Melhor agrupamento de tamanho 18 com índice Davies Boldin 0.231"
   ]
  },
  {
   "cell_type": "code",
   "execution_count": 20,
   "id": "f9960571-b687-409a-9b62-89ae967c0ad7",
   "metadata": {},
   "outputs": [
    {
     "name": "stdout",
     "output_type": "stream",
     "text": [
      "18 0.23082981076541184\n"
     ]
    },
    {
     "data": {
      "text/plain": [
       "<matplotlib.collections.PathCollection at 0x28367a6ad88>"
      ]
     },
     "execution_count": 20,
     "metadata": {},
     "output_type": "execute_result"
    },
    {
     "data": {
      "image/png": "[encoded data removed]",
      "text/plain": [
       "<Figure size 432x288 with 1 Axes>"
      ]
     },
     "metadata": {
      "needs_background": "light"
     },
     "output_type": "display_data"
    }
   ],
   "source": [
    "print(best_division, best_score)\n",
    "plt.scatter(df_quake[\"latitude\"],df_quake[\"longitude\"], c=best_labels, cmap='rainbow')"
   ]
  },
  {
   "cell_type": "code",
   "execution_count": null,
   "id": "c56887e8-7a59-486a-badb-0690af381427",
   "metadata": {},
   "outputs": [],
   "source": []
  }
 ],
 "metadata": {
  "kernelspec": {
   "display_name": "Python 3",
   "language": "python",
   "name": "python3"
  },
  "language_info": {
   "codemirror_mode": {
    "name": "ipython",
    "version": 3
   },
   "file_extension": ".py",
   "mimetype": "text/x-python",
   "name": "python",
   "nbconvert_exporter": "python",
   "pygments_lexer": "ipython3",
   "version": "3.7.9"
  }
 },
 "nbformat": 4,
 "nbformat_minor": 5
}
